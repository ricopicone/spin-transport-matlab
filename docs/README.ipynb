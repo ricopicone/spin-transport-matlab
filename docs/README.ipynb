{
 "cells": [
  {
   "cell_type": "markdown",
   "metadata": {},
   "source": [
    "# The Spin Transport Simulation project"
   ]
  },
  {
   "cell_type": "markdown",
   "metadata": {},
   "source": [
    "This repository contains the (developing) open-source code for simulating bulk spin transport (diffusion and separation) in solid media. Multi-spin-species simulations including magnetic resonance are in development."
   ]
  },
  {
   "cell_type": "markdown",
   "metadata": {},
   "source": [
    "## Installation"
   ]
  },
  {
   "cell_type": "markdown",
   "metadata": {},
   "source": [
    "## The `spin_transport_simulation` class"
   ]
  },
  {
   "cell_type": "code",
   "execution_count": 1,
   "metadata": {
    "tags": [
     "jupyter:kill_cell"
    ]
   },
   "outputs": [],
   "source": [
    "clear;close\n",
    "addpath('../')\n",
    "global s"
   ]
  },
  {
   "cell_type": "code",
   "execution_count": 19,
   "metadata": {},
   "outputs": [],
   "source": [
    "s = spin_transport_simulation(); % instance of simulation class"
   ]
  },
  {
   "cell_type": "markdown",
   "metadata": {},
   "source": [
    "### Physical constants"
   ]
  },
  {
   "cell_type": "markdown",
   "metadata": {},
   "source": [
    "Constants are available via the class property `constants`, a `struct` with fields including each constant. Documentation for each should be available via the property `docs.constants`. Below, we print the documentation for each."
   ]
  },
  {
   "cell_type": "code",
   "execution_count": 18,
   "metadata": {
    "tags": [
     "jupyter:kill_cell"
    ]
   },
   "outputs": [
    {
     "name": "stdout",
     "output_type": "stream",
     "text": [
      "Created file '/Users/picone/code/spin-transport-matlab/docs/print_doc.m'.\n"
     ]
    }
   ],
   "source": [
    "%%file print_doc.m\n",
    "function out = print_doc(name_doc)\n",
    "% PRINT_DOC  prints in a pretty way the docs for a field\n",
    "%   Prints argument in specific way for docs.\n",
    "global s\n",
    "\n",
    "try\n",
    "  description = eval(name_doc);\n",
    "  description = strrep(description,'\\n','\\n\\t');\n",
    "catch exception\n",
    "  description = 'needs documentation';\n",
    "end\n",
    "name_doc = regexprep(name_doc,'..docs\\.','.');\n",
    "disp(sprintf([name_doc,'\\n\\t',description]))\n",
    "end"
   ]
  },
  {
   "cell_type": "code",
   "execution_count": 19,
   "metadata": {
    "scrolled": true
   },
   "outputs": [
    {
     "name": "stdout",
     "output_type": "stream",
     "text": [
      ".constants.ge\n",
      "\telectron spin g-factor\n",
      "\tunits: dimensionless\n",
      "\tsource: https://en.wikipedia.org/wiki/G-factor_(physics)#Electron_spin_g-factor\n",
      ".constants.gp\n",
      "\tnuclear spin g-factor\n",
      "\tunits: dimensionless\n",
      "\tsource: http://leona.physics.tamu.edu/Phys327.11s/lab-gyro.pdf\n",
      ".constants.hb\n",
      "\treduced Plancks constant\n",
      "\tunits: m^2 kg/s\n",
      "\tsource: https://en.wikipedia.org/wiki/Planck_constant#Value\n",
      ".constants.gamma_e\n",
      "\tneeds documentation\n",
      ".constants.gamma_p\n",
      "\tneeds documentation\n",
      ".constants.mu\n",
      "\tneeds documentation\n",
      ".constants.kB\n",
      "\tneeds documentation\n",
      ".constants.NA\n",
      "\tneeds documentation\n",
      ".constants.mu_B\n",
      "\tneeds documentation\n",
      ".constants.mu_e\n",
      "\tneeds documentation\n",
      ".constants.mu_N\n",
      "\tneeds documentation\n",
      ".constants.mu_p\n",
      "\tneeds documentation\n"
     ]
    }
   ],
   "source": [
    "field_names = fieldnames(s.constants);\n",
    "for i = 1:numel(field_names)\n",
    "  doc_name = ['s.docs.constants.',field_names{i}];\n",
    "  print_doc(doc_name)\n",
    "end"
   ]
  },
  {
   "cell_type": "markdown",
   "metadata": {},
   "source": [
    "### Parameters"
   ]
  },
  {
   "cell_type": "markdown",
   "metadata": {},
   "source": [
    "Parameters are available via the class property `parameters`, a `struct` with fields including each parameter. Documentation for each should be available via the property `docs.parameters`. Below, we print the documentation for each."
   ]
  },
  {
   "cell_type": "code",
   "execution_count": 20,
   "metadata": {
    "scrolled": false
   },
   "outputs": [
    {
     "name": "stdout",
     "output_type": "stream",
     "text": [
      ".parameters.MwPS\n",
      "\tneeds documentation\n",
      ".parameters.dPS\n",
      "\tneeds documentation\n",
      ".parameters.nAMPS\n",
      "\tneeds documentation\n",
      ".parameters.concDPPH\n",
      "\tneeds documentation\n",
      ".parameters.concPS\n",
      "\tneeds documentation\n",
      ".parameters.den2\n",
      "\tneeds documentation\n",
      ".parameters.Delta_2\n",
      "\tneeds documentation\n",
      ".parameters.MwDPPH\n",
      "\tneeds documentation\n",
      ".parameters.dDPPH\n",
      "\tneeds documentation\n",
      ".parameters.nAMDPPH\n",
      "\tneeds documentation\n",
      ".parameters.den3\n",
      "\tneeds documentation\n",
      ".parameters.Delta_3\n",
      "\tneeds documentation\n",
      ".parameters.Gamma_2\n",
      "\tneeds documentation\n",
      ".parameters.Gamma_3\n",
      "\tneeds documentation\n",
      ".parameters.grad\n",
      "\tneeds documentation\n",
      ".parameters.Bd_2\n",
      "\tneeds documentation\n",
      ".parameters.Bd_3\n",
      "\tneeds documentation\n",
      ".parameters.B_d\n",
      "\tneeds documentation\n",
      ".parameters.B0\n",
      "\tneeds documentation\n",
      ".parameters.B1max_p_nom\n",
      "\tneeds documentation\n",
      ".parameters.B1max_e_nom\n",
      "\tneeds documentation\n",
      ".parameters.temp\n",
      "\tneeds documentation\n",
      ".parameters.tPFunc\n",
      "\tneeds documentation\n",
      ".parameters.rPFunc\n",
      "\tneeds documentation\n",
      ".parameters.T12sec\n",
      "\tneeds documentation\n",
      ".parameters.T13sec\n",
      "\tneeds documentation\n",
      ".parameters.T12\n",
      "\tneeds documentation\n",
      ".parameters.T13\n",
      "\tneeds documentation\n",
      ".parameters.T22sec\n",
      "\tneeds documentation\n",
      ".parameters.T23sec\n",
      "\tneeds documentation\n",
      ".parameters.T22\n",
      "\tneeds documentation\n",
      ".parameters.T23\n",
      "\tneeds documentation\n",
      ".parameters.g\n",
      "\tneeds documentation\n",
      ".parameters.G\n",
      "\tneeds documentation\n",
      ".parameters.D\n",
      "\tneeds documentation\n",
      ".parameters.B_r\n",
      "\tneeds documentation\n",
      ".parameters.c\n",
      "\tneeds documentation\n",
      ".parameters.t_max_sec\n",
      "\tneeds documentation\n",
      ".parameters.t_max\n",
      "\tneeds documentation\n",
      ".parameters.r_max_nm\n",
      "\tneeds documentation\n",
      ".parameters.r_max\n",
      "\tneeds documentation\n",
      ".parameters.n_r\n",
      "\tneeds documentation\n",
      ".parameters.pulse\n",
      "\tneeds documentation\n",
      ".parameters.plot\n",
      "\tneeds documentation\n",
      ".parameters.rho_1_langevin\n",
      "\tneeds documentation\n",
      ".parameters.rho_2_langevin\n",
      "\tneeds documentation\n",
      ".parameters.rho_3_langevin\n",
      "\tneeds documentation\n",
      ".parameters.d_rho_1_langevin\n",
      "\tneeds documentation\n",
      ".parameters.d_rho_2_langevin\n",
      "\tneeds documentation\n",
      ".parameters.d_rho_3_langevin\n",
      "\tneeds documentation\n"
     ]
    }
   ],
   "source": [
    "field_names = fieldnames(s.parameters);\n",
    "for i = 1:numel(field_names)\n",
    "  doc_name = ['s.docs.parameters.',field_names{i}];\n",
    "  print_doc(doc_name)\n",
    "end"
   ]
  }
 ],
 "metadata": {
  "celltoolbar": "Tags",
  "kernelspec": {
   "display_name": "Matlab",
   "language": "matlab",
   "name": "matlab"
  },
  "language_info": {
   "codemirror_mode": "octave",
   "file_extension": ".m",
   "help_links": [
    {
     "text": "MetaKernel Magics",
     "url": "https://github.com/calysto/metakernel/blob/master/metakernel/magics/README.md"
    }
   ],
   "mimetype": "text/x-octave",
   "name": "matlab",
   "version": "0.15.0"
  },
  "varInspector": {
   "cols": {
    "lenName": 16,
    "lenType": 16,
    "lenVar": 40
   },
   "kernels_config": {
    "python": {
     "delete_cmd_postfix": "",
     "delete_cmd_prefix": "del ",
     "library": "var_list.py",
     "varRefreshCmd": "print(var_dic_list())"
    },
    "r": {
     "delete_cmd_postfix": ") ",
     "delete_cmd_prefix": "rm(",
     "library": "var_list.r",
     "varRefreshCmd": "cat(var_dic_list()) "
    }
   },
   "types_to_exclude": [
    "module",
    "function",
    "builtin_function_or_method",
    "instance",
    "_Feature"
   ],
   "window_display": false
  }
 },
 "nbformat": 4,
 "nbformat_minor": 2
}
